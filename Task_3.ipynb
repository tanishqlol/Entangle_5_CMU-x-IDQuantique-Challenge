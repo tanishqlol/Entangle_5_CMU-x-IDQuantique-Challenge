{
 "cells": [
  {
   "cell_type": "code",
   "execution_count": 2,
   "id": "464d9248",
   "metadata": {},
   "outputs": [],
   "source": [
    "# Package Imports - feel free to add what you think might be useful! \n",
    "import requests\n",
    "import time\n",
    "import numpy as np\n",
    "import matplotlib.pyplot as plt\n",
    "from collections import Counter\n",
    "from math import log2\n",
    "from typing import List, Tuple"
   ]
  },
  {
   "cell_type": "markdown",
   "id": "41bd5b50",
   "metadata": {},
   "source": [
    "## Task 3: Quest for Quantum Randomness"
   ]
  },
  {
   "cell_type": "markdown",
   "id": "5af55384",
   "metadata": {},
   "source": [
    "### Part A: Truly Different"
   ]
  },
  {
   "cell_type": "code",
   "execution_count": 3,
   "id": "edd9a7ea",
   "metadata": {},
   "outputs": [],
   "source": [
    "#Constants\n",
    "\n",
    "QRNG_API_URL = \"https://qrng.idqloud.com/api/1.0\"\n",
    "API_KEY = \"aTo4BKRvnc49uRWDk034zaua87vGRXKk9TMLdfkI\""
   ]
  },
  {
   "cell_type": "code",
   "execution_count": 4,
   "id": "67b421a6",
   "metadata": {},
   "outputs": [
    {
     "data": {
      "text/plain": [
       "\" \\nUsing the QRNGaaS User Manual provided, \\nwrite Python code to get random numbers from IDQuantique's Quantum Random Number Generators. \\n\\nThe API documentation is available at: https://drive.google.com/file/d/1OkyRUP7HC4dbmi8OvoT4EuvXqRVGdsjD/view\\nYou'll probably reuse this code for Task 4. So write it well!\\n\\nIf you are unfamiliar with writing HTTP requests in Python, \\nhttps://www.w3schools.com/python/module_requests.asp\\n\\nIf you're really stuck, this can definitely help. Though we encourage you to read the documentation yourself! \\nhttps://curlconverter.com/python/\\n\""
      ]
     },
     "execution_count": 4,
     "metadata": {},
     "output_type": "execute_result"
    }
   ],
   "source": [
    "\"\"\" \n",
    "Using the QRNGaaS User Manual provided, \n",
    "write Python code to get random numbers from IDQuantique's Quantum Random Number Generators. \n",
    "\n",
    "The API documentation is available at: https://drive.google.com/file/d/1OkyRUP7HC4dbmi8OvoT4EuvXqRVGdsjD/view\n",
    "You'll probably reuse this code for Task 4. So write it well!\n",
    "\n",
    "If you are unfamiliar with writing HTTP requests in Python, \n",
    "https://www.w3schools.com/python/module_requests.asp\n",
    "\n",
    "If you're really stuck, this can definitely help. Though we encourage you to read the documentation yourself! \n",
    "https://curlconverter.com/python/\n",
    "\"\"\"\n"
   ]
  },
  {
   "cell_type": "markdown",
   "id": "d1628e69",
   "metadata": {},
   "source": [
    "### Class for using API for getting random numbers"
   ]
  },
  {
   "cell_type": "code",
   "execution_count": 5,
   "id": "c3adb476",
   "metadata": {},
   "outputs": [],
   "source": [
    "class QRNGaaS:\n",
    "    def __init__(self, api_key: str):\n",
    "        self.base_url = QRNG_API_URL\n",
    "        self.headers = {\n",
    "            \"X-API-KEY\": api_key,\n",
    "            \"Content-Type\": \"application/json\"\n",
    "        }\n",
    "        self.max_batch_size = 64  # Actual API limit (32 for int, 64 for short)\n",
    "        self.max_double_batch = 16\n",
    "    \n",
    "    def get_random_ints_batched(self, quantity: int) -> List[int]:\n",
    "        \"\"\"Get random 32-bit integers with batching to handle API limits\"\"\"\n",
    "        batches = quantity // self.max_batch_size\n",
    "        remainder = quantity % self.max_batch_size\n",
    "        \n",
    "        results = []\n",
    "        for _ in range(batches):\n",
    "            results.extend(self._get_batch(self.max_batch_size))\n",
    "        \n",
    "        if remainder > 0:\n",
    "            results.extend(self._get_batch(remainder))\n",
    "            \n",
    "        return results\n",
    "    \n",
    "    def _get_batch(self, batch_size: int) -> List[int]:\n",
    "        \"\"\"Get a single batch of random integers\"\"\"\n",
    "        params = {\"quantity\": batch_size}\n",
    "        try:\n",
    "            response = requests.get(\n",
    "                f\"{self.base_url}/short\",\n",
    "                headers=self.headers,\n",
    "                params=params,\n",
    "                timeout=10  # Add timeout to prevent hanging\n",
    "            )\n",
    "            response.raise_for_status()\n",
    "            return response.json()[\"data\"]\n",
    "        except requests.exceptions.RequestException as e:\n",
    "            print(f\"API request failed: {e}\")\n",
    "            return []  # Return empty list on failure\n",
    "        \n",
    "    def _get_double_batch(self, batch_size: int, min_val: float, max_val: float) -> List[float]:\n",
    "        params = {\"min\": min_val, \"max\": max_val, \"quantity\": batch_size}\n",
    "        try:\n",
    "            resp = requests.get(f\"{self.base_url}/double\", headers=self.headers, params=params, timeout=10)\n",
    "            resp.raise_for_status()\n",
    "            return resp.json()[\"data\"]\n",
    "        except requests.RequestException as e:\n",
    "            print(f\"Double batch request failed: {e}\")\n",
    "            return []\n",
    "\n",
    "    def get_random_doubles_batched(\n",
    "        self,\n",
    "        quantity: int,\n",
    "        min_val: float = 0.0,\n",
    "        max_val: float = 1.0\n",
    "    ) -> List[float]:\n",
    "        \"\"\"\n",
    "        Retrieve 'quantity' true-random doubles in [min_val, max_val), batching to respect API limits.\n",
    "        \"\"\"\n",
    "        full_batches = quantity // self.max_double_batch\n",
    "        remainder = quantity % self.max_double_batch\n",
    "        result: List[float] = []\n",
    "        for _ in range(full_batches):\n",
    "            result.extend(self._get_double_batch(self.max_double_batch, min_val, max_val))\n",
    "        if remainder:\n",
    "            result.extend(self._get_double_batch(remainder, min_val, max_val))\n",
    "        return result\n",
    "        \n"
   ]
  },
  {
   "cell_type": "code",
   "execution_count": 6,
   "id": "8354bf5c",
   "metadata": {},
   "outputs": [],
   "source": [
    "# Initialize QRNG - REPLACE WITH YOUR ACTUAL API KEY\n",
    "qrng = QRNGaaS(API_KEY)\n",
    "\n",
    "# Analysis Parameters\n",
    "SAMPLE_SIZES  = [1,5,10,50,100,250,500,1000,2500, 10000, 20000]  # Reduced max size due to API limits\n",
    "BIT_LENGTH = 16  # 32-bit integers\n",
    "NUM_TRIALS = 3   # Reduced trials to avoid rate limiting\n",
    "REQUEST_DELAY = 0.1  # Small delay between API calls to avoid rate limiting"
   ]
  },
  {
   "cell_type": "markdown",
   "id": "6a0f70b1",
   "metadata": {},
   "source": [
    "### Shanon Entropy Calculation Function"
   ]
  },
  {
   "cell_type": "code",
   "execution_count": 7,
   "id": "2fe924c7",
   "metadata": {},
   "outputs": [],
   "source": [
    "def shannon_entropy(data: List[int], bit_length: int = BIT_LENGTH) -> float:\n",
    "    \"\"\"\n",
    "    Calculate Shannon entropy for a set of integers,\n",
    "    with results normalized to the theoretical maximum\n",
    "    \"\"\"\n",
    "    if not data:\n",
    "        return 0.0\n",
    "    \n",
    "    # Calculate observed probabilities\n",
    "    counts = Counter(data)\n",
    "    probabilities = [count / len(data) for count in counts.values()]\n",
    "    \n",
    "    # Calculate raw entropy\n",
    "    raw_entropy = -sum(p * np.log2(p) for p in probabilities if p > 0)\n",
    "    \n",
    "    # For integers in range [0, 2^bit_length-1], the max entropy should be bit_length\n",
    "    max_possible_entropy = bit_length\n",
    "    \n",
    "    return min(raw_entropy, max_possible_entropy)  # Cap at theoretical maximum"
   ]
  },
  {
   "cell_type": "markdown",
   "id": "3bb04f3a",
   "metadata": {},
   "source": [
    "### Bitrate Calculation Function"
   ]
  },
  {
   "cell_type": "code",
   "execution_count": 8,
   "id": "feb1c824",
   "metadata": {},
   "outputs": [],
   "source": [
    "def calculate_bitrate(qrng: QRNGaaS, num_values: int, bits_per_value: int) -> Tuple[float, float]:\n",
    "    \"\"\"Calculate bitrate (bits/sec) with proper batching\"\"\"\n",
    "    start_time = time.time()\n",
    "    qrng.get_random_ints_batched(num_values)  # Generate the values\n",
    "    elapsed = time.time() - start_time\n",
    "    total_bits = num_values * bits_per_value\n",
    "    return total_bits / elapsed if elapsed > 0 else 0.0, elapsed"
   ]
  },
  {
   "cell_type": "code",
   "execution_count": 9,
   "id": "04f18019",
   "metadata": {},
   "outputs": [
    {
     "name": "stdout",
     "output_type": "stream",
     "text": [
      "\n",
      "{\"status\": 403, \"detail\":\"INVALID_API_KEY\",\"title\": \"Forbidden\", \"type\":\"https://datatracker.ietf.org/doc/html/rfc7231#section-6.5.3\" }\n"
     ]
    },
    {
     "name": "stderr",
     "output_type": "stream",
     "text": [
      "  % Total    % Received % Xferd  Average Speed   Time    Time     Time  Current\n",
      "                                 Dload  Upload   Total   Spent    Left  Speed\n",
      "\n",
      "  0     0    0     0    0     0      0      0 --:--:-- --:--:-- --:--:--     0\n",
      "  0     0    0     0    0     0      0      0 --:--:--  0:00:01 --:--:--     0\n",
      "100   136  100   136    0     0     91      0  0:00:01  0:00:01 --:--:--    91\n"
     ]
    }
   ],
   "source": [
    "\"\"\"\n",
    "To get started, we provide a simple example of how to use the API to generate 10 int16 random numbers.\n",
    "In particular, observe where we pass in the min and max parameters to specify the range of random numbers we want\n",
    "and the quantity parameter to specify how many random numbers we want.\n",
    "Here is the API KEY you will need to use: aTo4BKRvnc49uRWDk034zaua87vGRXKk9TMLdfkI\n",
    "\"\"\"\n",
    "\n",
    "!curl \"https://qrng.idqloud.com/api/1.0/short?max=32767&min=-32768&quantity=10\" -X GET -H \"X-API-KEY: <ADD API KEY FROM ABOVE HERE>\""
   ]
  },
  {
   "cell_type": "markdown",
   "id": "6a854846",
   "metadata": {},
   "source": [
    "### Getting values from API for selected sample size and calculating its entropy and bitrate value"
   ]
  },
  {
   "cell_type": "code",
   "execution_count": 14,
   "id": "24226678",
   "metadata": {},
   "outputs": [
    {
     "name": "stdout",
     "output_type": "stream",
     "text": [
      "Running entropy analysis (this may take a while due to API limits)...\n",
      "Sample size: 1, Entropy: -0.00 bits\n",
      "Sample size: 5, Entropy: 2.32 bits\n",
      "Sample size: 10, Entropy: 3.32 bits\n",
      "Sample size: 50, Entropy: 5.64 bits\n",
      "Sample size: 100, Entropy: 6.64 bits\n",
      "Sample size: 250, Entropy: 7.97 bits\n",
      "Sample size: 500, Entropy: 8.95 bits\n",
      "Sample size: 1000, Entropy: 9.96 bits\n",
      "Sample size: 2500, Entropy: 11.25 bits\n",
      "Sample size: 10000, Entropy: 13.14 bits\n",
      "Sample size: 20000, Entropy: 14.01 bits\n",
      "\n",
      "Running bitrate analysis...\n",
      "Trial 1: 1601.47 bits/sec (took 9.9908 sec)\n",
      "Trial 2: 1727.03 bits/sec (took 9.2644 sec)\n",
      "Trial 3: 1700.94 bits/sec (took 9.4066 sec)\n"
     ]
    }
   ],
   "source": [
    "\"\"\"\n",
    "You can paste the other environmental entropy based TRNGs from Task 2 and compare the performance\n",
    "Compare your written QRNG to the previous TRNGs. Be sure to compare them with respect to bitrate and entropy.\n",
    "\"\"\"\n",
    "# Entropy Analysis\n",
    "print(\"Running entropy analysis (this may take a while due to API limits)...\")\n",
    "entropy_values = []\n",
    "for size in SAMPLE_SIZES:\n",
    "    time.sleep(REQUEST_DELAY)  \n",
    "    data = qrng.get_random_ints_batched(size)\n",
    "    if len(data) != size:\n",
    "        print(f\"Warning: Only got {len(data)}/{size} values\")\n",
    "    \n",
    "    entropy = shannon_entropy(data, BIT_LENGTH)\n",
    "    entropy_values.append(entropy)\n",
    "    print(f\"Sample size: {size}, Entropy: {entropy:.2f} bits\")\n",
    "\n",
    "# Bitrate Analysis\n",
    "print(\"\\nRunning bitrate analysis...\")\n",
    "bitrates = []\n",
    "test_size = 1000  # Fixed size for bitrate comparison\n",
    "\n",
    "for trial in range(NUM_TRIALS):\n",
    "    time.sleep(REQUEST_DELAY)  \n",
    "    bitrate, elapsed = calculate_bitrate(qrng, test_size, BIT_LENGTH)\n",
    "    if bitrate > 0:  # Only record successful trials\n",
    "        bitrates.append(bitrate)\n",
    "        print(f\"Trial {trial+1}: {bitrate:.2f} bits/sec (took {elapsed:.4f} sec)\")\n",
    "    else:\n",
    "        print(f\"Trial {trial+1} failed\")"
   ]
  },
  {
   "cell_type": "markdown",
   "id": "c4c92687",
   "metadata": {},
   "source": [
    "### Plotting Graphs"
   ]
  },
  {
   "cell_type": "code",
   "execution_count": null,
   "id": "da92daab",
   "metadata": {},
   "outputs": [
    {
     "name": "stderr",
     "output_type": "stream",
     "text": [
      "C:\\Users\\krish patel\\AppData\\Local\\Temp\\ipykernel_10352\\1130530486.py:17: MatplotlibDeprecationWarning: The 'labels' parameter of boxplot() has been renamed 'tick_labels' since Matplotlib 3.9; support for the old name will be dropped in 3.11.\n",
      "  plt.boxplot(bitrates, labels=['QRNG'])\n"
     ]
    },
    {
     "data": {
      "image/png": "[encoded data removed]",
      "text/plain": [
       "<Figure size 1200x500 with 2 Axes>"
      ]
     },
     "metadata": {},
     "output_type": "display_data"
    },
    {
     "name": "stdout",
     "output_type": "stream",
     "text": [
      "\n",
      "Entropy Summary:\n",
      "Size      1: -0.00 bits (ideal: 16 bits)\n",
      "Size      5: 2.32 bits (ideal: 16 bits)\n",
      "Size     10: 3.32 bits (ideal: 16 bits)\n",
      "Size     50: 5.64 bits (ideal: 16 bits)\n",
      "Size    100: 6.64 bits (ideal: 16 bits)\n",
      "Size    250: 7.95 bits (ideal: 16 bits)\n",
      "Size    500: 8.96 bits (ideal: 16 bits)\n",
      "Size   1000: 9.95 bits (ideal: 16 bits)\n",
      "Size   2500: 11.25 bits (ideal: 16 bits)\n",
      "Size  10000: 13.15 bits (ideal: 16 bits)\n",
      "Size  20000: 14.00 bits (ideal: 16 bits)\n",
      "\n",
      "Bitrate Summary:\n",
      "Mean: 1834.62 bits/sec\n",
      "Std Dev: 33.47 bits/sec\n",
      "Min: 1810.68 bits/sec\n",
      "Max: 1881.95 bits/sec\n"
     ]
    }
   ],
   "source": [
    "# Visualization\n",
    "plt.figure(figsize=(12, 5))\n",
    "\n",
    "# Entropy Plot\n",
    "plt.subplot(1, 2, 1)\n",
    "plt.plot(SAMPLE_SIZES, entropy_values, marker='o', color='blue', linestyle='-')\n",
    "plt.xlabel('Sample Size')\n",
    "plt.ylabel('Shannon Entropy (bits)')\n",
    "plt.title('QRNG Entropy vs Sample Size')\n",
    "plt.axhline(y=BIT_LENGTH, color='red', linestyle='--', label='Ideal Entropy')\n",
    "plt.legend()\n",
    "plt.grid(True)\n",
    "\n",
    "# Bitrate Plot\n",
    "plt.subplot(1, 2, 2)\n",
    "if bitrates:  # Only plot if we have successful trials\n",
    "    plt.boxplot(bitrates, labels=['QRNG'])\n",
    "    plt.ylabel('Bitrate (bits/sec)')\n",
    "    plt.title('QRNG Bitrate Distribution')\n",
    "else:\n",
    "    plt.text(0.5, 0.5, 'No successful bitrate measurements', \n",
    "             ha='center', va='center')\n",
    "    plt.title('Bitrate Measurement Failed')\n",
    "plt.grid(True)\n",
    "\n",
    "plt.tight_layout()\n",
    "plt.show()\n",
    "\n",
    "# Print summary statistics\n",
    "print(\"\\nEntropy Summary:\")\n",
    "for size, entropy in zip(SAMPLE_SIZES, entropy_values):\n",
    "    print(f\"Size {size:6d}: {entropy:.2f} bits (ideal: {BIT_LENGTH} bits)\")\n",
    "\n",
    "if bitrates:\n",
    "    print(\"\\nBitrate Summary:\")\n",
    "    print(f\"Mean: {np.mean(bitrates):.2f} bits/sec\")\n",
    "    print(f\"Std Dev: {np.std(bitrates):.2f} bits/sec\")\n",
    "    print(f\"Min: {np.min(bitrates):.2f} bits/sec\")\n",
    "    print(f\"Max: {np.max(bitrates):.2f} bits/sec\")\n",
    "else:\n",
    "    print(\"\\nBitrate measurement failed in all trials\")"
   ]
  },
  {
   "cell_type": "markdown",
   "id": "ee04daba",
   "metadata": {},
   "source": [
    "### Part B: Easy as Pi!"
   ]
  },
  {
   "cell_type": "code",
   "execution_count": 11,
   "id": "b0155461",
   "metadata": {},
   "outputs": [],
   "source": [
    "def estimate_pi_qrng(num_points: int, qrng: QRNGaaS) -> float:\n",
    "    circle_points = 0\n",
    "    square_points = 0\n",
    "\n",
    "    # Generate x and y coordinates in batches\n",
    "    points_per_batch = 1000  # Adjust based on API limits and performance\n",
    "    for i in range(0, num_points, points_per_batch):\n",
    "        batch_size = min(points_per_batch, num_points - i)\n",
    "        \n",
    "        # Fetch random x and y coordinates in [-1, 1)\n",
    "        rand_x = qrng.get_random_doubles_batched(batch_size, -1.0, 1.0)\n",
    "        rand_y = qrng.get_random_doubles_batched(batch_size, -1.0, 1.0)\n",
    "\n",
    "        if len(rand_x) != batch_size or len(rand_y) != batch_size:\n",
    "            print(f\"Warning: Insufficient random numbers received for batch {i}\")\n",
    "            continue\n",
    "\n",
    "        # Process each point in the batch\n",
    "        for x, y in zip(rand_x, rand_y):\n",
    "            origin_dist = x**2 + y**2\n",
    "            if origin_dist <= 1:\n",
    "                circle_points += 1\n",
    "            square_points += 1\n",
    "\n",
    "    # Estimate Pi\n",
    "    if square_points == 0:\n",
    "        return 0.0\n",
    "    pi_estimate = 4 * circle_points / square_points\n",
    "    return pi_estimate"
   ]
  },
  {
   "cell_type": "code",
   "execution_count": 15,
   "id": "8279cbf8",
   "metadata": {},
   "outputs": [
    {
     "name": "stdout",
     "output_type": "stream",
     "text": [
      "Final Estimation of Pi (QRNG) = 3.1456\n"
     ]
    }
   ],
   "source": [
    "if __name__ == \"__main__\":\n",
    "    INTERVAL = 50\n",
    "    TOTAL_POINTS = INTERVAL ** 2 \n",
    "    qrng = QRNGaaS(API_KEY)\n",
    "    pi = estimate_pi_qrng(TOTAL_POINTS, qrng)\n",
    "    print(f\"Final Estimation of Pi (QRNG) = {pi}\")"
   ]
  }
 ],
 "metadata": {
  "kernelspec": {
   "display_name": "Python 3",
   "language": "python",
   "name": "python3"
  },
  "language_info": {
   "codemirror_mode": {
    "name": "ipython",
    "version": 3
   },
   "file_extension": ".py",
   "mimetype": "text/x-python",
   "name": "python",
   "nbconvert_exporter": "python",
   "pygments_lexer": "ipython3",
   "version": "3.12.4"
  }
 },
 "nbformat": 4,
 "nbformat_minor": 5
}
