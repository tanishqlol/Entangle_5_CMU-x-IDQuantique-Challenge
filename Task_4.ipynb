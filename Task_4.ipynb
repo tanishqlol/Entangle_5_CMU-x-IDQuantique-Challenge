{
 "cells": [
  {
   "cell_type": "markdown",
   "id": "65065fb6",
   "metadata": {},
   "source": [
    "# Task 4: Demonstrating Quantum Advantage"
   ]
  },
  {
   "cell_type": "code",
   "execution_count": null,
   "id": "4ab73f7d",
   "metadata": {},
   "outputs": [],
   "source": [
    "\"\"\"\n",
    "This task is intentionally open-ended, so no boilerplate code is provided.\n",
    "\n",
    "You may use this notebook to develop your solution, or create a separate file if you prefer.\n",
    "We recommend starting by copying over your previous implementations of the QRNG, TRNG, and PRNG.\n",
    "Then, explore ways to modularize and combine these components to design a use case that\n",
    "demonstrates the unique advantages of quantum randomness.\n",
    "\n",
    "Your write-up can be included directly in this notebook or submitted separately.\n",
    "You're welcome to prepare it as a Google Doc or LaTeX document and upload a PDF to the GitHub repository—\n",
    "just be sure to clearly indicate where it can be found if it's not included here.\n",
    "\"\"\""
   ]
  },
  {
   "cell_type": "markdown",
   "id": "0f5e76f7",
   "metadata": {},
   "source": [
    "### Necessary Imports"
   ]
  },
  {
   "cell_type": "code",
   "execution_count": null,
   "id": "97cc0f4b",
   "metadata": {},
   "outputs": [],
   "source": [
    "import requests\n",
    "import numpy as np\n",
    "import random\n",
    "import os\n",
    "import matplotlib.pyplot as plt\n",
    "from scipy.stats import norm\n",
    "import math\n",
    "from collections import Counter"
   ]
  },
  {
   "cell_type": "markdown",
   "id": "9e6ecb44",
   "metadata": {},
   "source": [
    "### Template for using api"
   ]
  },
  {
   "cell_type": "code",
   "execution_count": 4,
   "id": "54cd5e13",
   "metadata": {},
   "outputs": [],
   "source": [
    "import requests\n",
    "from typing import Union, List, Optional\n",
    "\n",
    "QRNG_API_URL = \"https://qrng.idqloud.com/api/1.0\"\n",
    "class QRNGaaS:\n",
    "    def __init__(self, api_key: str):\n",
    "        self.base_url = QRNG_API_URL\n",
    "        self.headers = {\n",
    "            \"X-API-KEY\": api_key,\n",
    "            \"Content-Type\": \"application/json\"\n",
    "        }\n",
    "        self.max_batch_size = 32  # Actual API limit (32 for int, 64 for short)\n",
    "        self.max_double_batch = 16\n",
    "    \n",
    "    def get_random_ints_batched(self, quantity: int) -> List[int]:\n",
    "        \"\"\"Get random 32-bit integers with batching to handle API limits\"\"\"\n",
    "        batches = quantity // self.max_batch_size\n",
    "        remainder = quantity % self.max_batch_size\n",
    "        \n",
    "        results = []\n",
    "        for _ in range(batches):\n",
    "            results.extend(self._get_batch(self.max_batch_size))\n",
    "        \n",
    "        if remainder > 0:\n",
    "            results.extend(self._get_batch(remainder))\n",
    "            \n",
    "        return results\n",
    "    \n",
    "    def _get_batch(self, batch_size: int) -> List[int]:\n",
    "        \"\"\"Get a single batch of random integers\"\"\"\n",
    "        params = {\"quantity\": batch_size}\n",
    "        try:\n",
    "            response = requests.get(\n",
    "                f\"{self.base_url}/int\",\n",
    "                headers=self.headers,\n",
    "                params=params,\n",
    "                timeout=10  # Add timeout to prevent hanging\n",
    "            )\n",
    "            response.raise_for_status()\n",
    "            return response.json()[\"data\"]\n",
    "        except requests.exceptions.RequestException as e:\n",
    "            print(f\"API request failed: {e}\")\n",
    "            return []  # Return empty list on failure\n",
    "        \n",
    "    def _get_double_batch(self, batch_size: int, min_val: float, max_val: float) -> List[float]:\n",
    "        params = {\"min\": min_val, \"max\": max_val, \"quantity\": batch_size}\n",
    "        try:\n",
    "            resp = requests.get(f\"{self.base_url}/double\", headers=self.headers, params=params, timeout=10)\n",
    "            resp.raise_for_status()\n",
    "            return resp.json()[\"data\"]\n",
    "        except requests.RequestException as e:\n",
    "            print(f\"Double batch request failed: {e}\")\n",
    "            return []\n",
    "\n",
    "    def get_random_doubles_batched(\n",
    "        self,\n",
    "        quantity: int,\n",
    "        min_val: float = 0.0,\n",
    "        max_val: float = 1.0\n",
    "    ) -> List[float]:\n",
    "        \"\"\"\n",
    "        Retrieve 'quantity' true-random doubles in [min_val, max_val), batching to respect API limits.\n",
    "        \"\"\"\n",
    "        full_batches = quantity // self.max_double_batch\n",
    "        remainder = quantity % self.max_double_batch\n",
    "        result: List[float] = []\n",
    "        for _ in range(full_batches):\n",
    "            result.extend(self._get_double_batch(self.max_double_batch, min_val, max_val))\n",
    "        if remainder:\n",
    "            result.extend(self._get_double_batch(remainder, min_val, max_val))\n",
    "        return result\n",
    "\n",
    "        \n"
   ]
  },
  {
   "cell_type": "code",
   "execution_count": 5,
   "id": "50fb2adc",
   "metadata": {},
   "outputs": [
    {
     "name": "stdout",
     "output_type": "stream",
     "text": [
      "Double batch request failed: HTTPSConnectionPool(host='qrng.idqloud.com', port=443): Read timed out. (read timeout=10)\n",
      "Random doubles (sample): [0.9742247491765068, -0.5747966249089977, 0.15903809674811287, 0.023676799725717013, 0.9407766719915487, -0.10894088225909226, 0.855798372878884, 0.4628708976942435, -0.2466066267271727, -0.6449593114245578, 0.8572215366727516, -0.1330699777673101, 0.805900604957847, 0.49591637028770563, -0.6758404218432095, 0.6435410201199092, -0.4342395510802399, 0.6087342787810668, -0.9444186996879835, 0.14086710072223352, 0.3116874210016747, 0.12894292060630086, 0.2146975635433146, 0.6449164241939029, 0.4667675141255767, -0.1395043285832931, -0.7556124883391955, 0.3853776605153656, 0.9995905444611011, -0.5483001750987357, 0.29871055486602294, 0.6054467655170637, -0.9092002197648228, -0.14708622003886673, 0.06470289382916383, 0.2522329166207997, -0.3452680368281065, -0.7646768005242828, -0.558922764143214, -0.7219815473975115, -0.87058352518225, -0.30480922640703034, -0.5333339381312847, -0.06109467514323619, 0.6525566489346337, -0.06089595147945004, -0.4358567710078425, -0.7912682465084127, -0.2492638618787657, -0.644787505860811, -0.6063014568682625, 0.3876132392097835, -0.20944618386821579, -0.26250195499265705, 0.4901538779798895, -0.6161588953073862, 0.7217054727261838, 0.07447637171220434, 0.30443353160651876, 0.8347127028771852, -0.7727056404231181, -0.22017730177042005, 0.8734222773754077, 0.7194521821113797, -0.5593843614834488, -0.413765164230842, -0.6258945620721994, 0.3840732414412573, -0.132080227626874, 0.0953645641076466, -0.73736690849956, -0.9241739907925008, -0.6754528087972955, -0.6409703035262992, 0.26234494748004966, 0.2799004245375494, 0.009350772987385625, -0.8190129909388331, -0.8689050769797115, 0.4080006775958023, -0.7764120654241304, 0.8279555902538829, -0.5291087192915045, -0.27687285703479314]\n",
      "Random ints (sample): [-2141924614, 218933868, 976065871, -658436168, 496961494, 702148977, 1402568335, -1761190481, 787539631, -870702490, -528209866, -2052737921, 828073423, -2034018323, 976314420, -263987606, 424805096, -1208827280, 1565917025, 242487777, -1524639972, 1950158712, 225947371, 2015034687, 681669252, -1990682847, -1007698451, -699547576, -699339340, -2054218269, -1926298965, 1713959016, 166425346, 229322148, -42592883, -1673855559, 745632081, -2020543377, -1244426291, 518499175, 1079811894, -1704319009, -1626281892, 1715967019, 1103657667, 647842471, -959640772, 1144250353, -540807340, -1090770421, -1064443148, -938727254, 1983742589, -980744312, -1283884488, 836316769, -126129830, -647606031, -122454725, -163381737, 1487660861, -228193659, 1105797980, -970347317, -1524256692, -472109402, -1938059594, -903007088, -376554939, 1199143924, 1244369290, -1802354898, 998838974, -1761859509, -1068934683, -75644367, -926907046, -792541078, -106666089, 180676485, -783386673, -662274853, -1492028905, 1561625054, 1798574744, -1668427855, -1767441701, 1710472906, -533153941, -221034460, 1730758060, -174299102, 499322497, -722764084, 1288833078, -1321783072, -1219649833, -731581979, -285763263, -1748024320]\n"
     ]
    }
   ],
   "source": [
    "if __name__ == \"__main__\":\n",
    "    API_KEY = \"aTo4BKRvnc49uRWDk034zaua87vGRXKk9TMLdfkI\"\n",
    "    qrng = QRNGaaS(API_KEY)\n",
    "\n",
    "    # Example: get 100 doubles in batches\n",
    "    doubles = qrng.get_random_doubles_batched(quantity=100, min_val=-1.0, max_val=1.0)\n",
    "    print(\"Random doubles (sample):\", doubles[::])\n",
    "\n",
    "    #Example: get 100 ints in batches\n",
    "    ints = qrng.get_random_ints_batched(quantity=100)\n",
    "    print(\"Random ints (sample):\", ints[::])"
   ]
  }
 ],
 "metadata": {
  "kernelspec": {
   "display_name": "krispy",
   "language": "python",
   "name": "python3"
  },
  "language_info": {
   "codemirror_mode": {
    "name": "ipython",
    "version": 3
   },
   "file_extension": ".py",
   "mimetype": "text/x-python",
   "name": "python",
   "nbconvert_exporter": "python",
   "pygments_lexer": "ipython3",
   "version": "3.10.16"
  }
 },
 "nbformat": 4,
 "nbformat_minor": 5
}
